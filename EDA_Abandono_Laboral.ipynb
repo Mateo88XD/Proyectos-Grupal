{
 "cells": [
  {
   "cell_type": "markdown",
   "id": "bcb24634",
   "metadata": {},
   "source": [
    "\n",
    "# 📊 EDA Inicial — Abandono Laboral\n",
    "**Autora:** Paola Navarro · **Equipo:** Mateo Beltramone, Gonzalo Ezequiel Luna  \n",
    "**Objetivo:** Generar visualizaciones provisionales y redactar hallazgos iniciales.\n",
    "\n",
    "> **Notas:**\n",
    "> - Este cuaderno usa **solo matplotlib** para gráficos, **una figura por gráfico** y **sin estilos ni colores específicos**.\n",
    "> - Ajustá los **nombres de columnas** según tu dataset.  \n",
    "> - Las celdas marcadas como **(Opcional)** pueden omitirse si Gonzalo ya aplicó esa transformación en el dataset limpio.\n"
   ]
  },
  {
   "cell_type": "code",
   "execution_count": null,
   "id": "35911b88",
   "metadata": {},
   "outputs": [],
   "source": [
    "\n",
    "# ====== Librerías ======\n",
    "import pandas as pd\n",
    "import numpy as np\n",
    "import matplotlib.pyplot as plt\n",
    "\n",
    "# Mostrar más columnas al inspeccionar\n",
    "pd.set_option(\"display.max_columns\", 200)\n",
    "pd.set_option(\"display.width\", 120)\n"
   ]
  },
  {
   "cell_type": "markdown",
   "id": "9d2d8a07",
   "metadata": {},
   "source": [
    "## 1) Cargar datos"
   ]
  },
  {
   "cell_type": "code",
   "execution_count": null,
   "id": "fa5fb8db",
   "metadata": {},
   "outputs": [],
   "source": [
    "\n",
    "# Ruta al archivo (ajustar nombre/ubicación)\n",
    "DATA_PATH = \"abandono_laboral_limpio.csv\"  # Ej.: generado por Gonzalo\n",
    "\n",
    "# Cargar dataset\n",
    "df = pd.read_csv(DATA_PATH)\n",
    "\n",
    "# Vista rápida\n",
    "display(df.head(3))\n",
    "print(\"\\nForma del dataset:\", df.shape)\n",
    "print(\"\\nTipos de datos:\")\n",
    "display(df.dtypes)\n"
   ]
  },
  {
   "cell_type": "markdown",
   "id": "5e3dfc34",
   "metadata": {},
   "source": [
    "\n",
    "## 2) (Opcional) Normalización de categorías  \n",
    "Usar solo si **aún no** se unificaron `sexo` y `estado_civil`. Si ya están OK, **saltá esta celda**.\n"
   ]
  },
  {
   "cell_type": "code",
   "execution_count": null,
   "id": "5bc0822c",
   "metadata": {},
   "outputs": [],
   "source": [
    "\n",
    "# --- Unificar 'sexo' --- (editar mapeos si es necesario)\n",
    "if \"sexo\" in df.columns:\n",
    "    map_sexo = {\n",
    "        \"M\": \"Masculino\", \"F\": \"Femenino\",\n",
    "        \"m\": \"Masculino\", \"f\": \"Femenino\",\n",
    "        \"male\": \"Masculino\", \"female\": \"Femenino\",\n",
    "        \"Masculino\": \"Masculino\", \"Femenino\": \"Femenino\"\n",
    "    }\n",
    "    df[\"sexo\"] = df[\"sexo\"].astype(str).str.strip().str.lower().map(map_sexo).fillna(df[\"sexo\"])\n",
    "\n",
    "# --- Unificar 'estado_civil' --- (editar mapeos si es necesario)\n",
    "if \"estado_civil\" in df.columns:\n",
    "    df[\"estado_civil\"] = (\n",
    "        df[\"estado_civil\"]\n",
    "        .astype(str).str.strip().str.lower()\n",
    "        .replace({\n",
    "            \"casado\": \"Casado/a\", \"casada\": \"Casado/a\",\n",
    "            \"soltero\": \"Soltero/a\", \"soltera\": \"Soltero/a\",\n",
    "            \"divorciado\": \"Divorciado/a\", \"divorciada\": \"Divorciado/a\",\n",
    "            \"viudo\": \"Viudo/a\", \"viuda\": \"Viudo/a\",\n",
    "        })\n",
    "    )\n",
    "\n",
    "# Estandarizar target 'abandono' a 0/1 si aplica\n",
    "if \"abandono\" in df.columns:\n",
    "    # Intento de coerción suave\n",
    "    df[\"abandono\"] = df[\"abandono\"].replace({\"no\":0, \"sí\":1, \"si\":1, \"Yes\":1, \"No\":0, True:1, False:0}).astype(int, errors=\"ignore\")\n",
    "\n",
    "display(df.head(3))\n"
   ]
  },
  {
   "cell_type": "markdown",
   "id": "f2dd1da2",
   "metadata": {},
   "source": [
    "## 3) Selección de columnas útiles (ajustar según su dataset)"
   ]
  },
  {
   "cell_type": "code",
   "execution_count": null,
   "id": "3fea0bf5",
   "metadata": {},
   "outputs": [],
   "source": [
    "\n",
    "# Sugerencia mínima de columnas (renombrar según corresponda)\n",
    "# num_cols y cat_cols se pueden ajustar a mano si es necesario.\n",
    "num_cols = [c for c in df.columns if df[c].dtype.kind in \"if\" and c not in [\"abandono\"]]\n",
    "cat_cols = [c for c in df.columns if df[c].dtype == \"object\"]\n",
    "target_col = \"abandono\" if \"abandono\" in df.columns else None\n",
    "\n",
    "print(\"Numéricas:\", num_cols)\n",
    "print(\"Categóricas:\", cat_cols)\n",
    "print(\"Target:\", target_col)\n"
   ]
  },
  {
   "cell_type": "markdown",
   "id": "0caad387",
   "metadata": {},
   "source": [
    "## 4) Estadísticas descriptivas"
   ]
  },
  {
   "cell_type": "code",
   "execution_count": null,
   "id": "43e23651",
   "metadata": {},
   "outputs": [],
   "source": [
    "\n",
    "# Estadísticas para numéricas\n",
    "display(df[num_cols].describe().T)\n",
    "\n",
    "# Frecuencias básicas para categóricas (máximo 20 categorías por columna para vista rápida)\n",
    "for c in cat_cols:\n",
    "    vc = df[c].value_counts(dropna=False)\n",
    "    print(f\"\\nFrecuencias — {c}:\")\n",
    "    display(vc.head(20))\n"
   ]
  },
  {
   "cell_type": "markdown",
   "id": "7412530e",
   "metadata": {},
   "source": [
    "## 5) Histogramas — Variables numéricas"
   ]
  },
  {
   "cell_type": "code",
   "execution_count": null,
   "id": "bf03152d",
   "metadata": {},
   "outputs": [],
   "source": [
    "\n",
    "for col in num_cols:\n",
    "    fig = plt.figure(figsize=(6,4))\n",
    "    plt.hist(df[col].dropna(), bins=20)\n",
    "    plt.title(f\"Distribución de {col}\")\n",
    "    plt.xlabel(col)\n",
    "    plt.ylabel(\"Frecuencia\")\n",
    "    plt.show()\n"
   ]
  },
  {
   "cell_type": "markdown",
   "id": "7f86c762",
   "metadata": {},
   "source": [
    "## 6) Barras — Variables categóricas"
   ]
  },
  {
   "cell_type": "code",
   "execution_count": null,
   "id": "b8c173b6",
   "metadata": {},
   "outputs": [],
   "source": [
    "\n",
    "for col in cat_cols:\n",
    "    counts = df[col].value_counts(dropna=False)\n",
    "    fig = plt.figure(figsize=(6,4))\n",
    "    plt.bar(counts.index.astype(str), counts.values)\n",
    "    plt.title(f\"Distribución de {col}\")\n",
    "    plt.xlabel(col)\n",
    "    plt.ylabel(\"Cantidad\")\n",
    "    plt.xticks(rotation=45, ha=\"right\")\n",
    "    plt.tight_layout()\n",
    "    plt.show()\n"
   ]
  },
  {
   "cell_type": "markdown",
   "id": "b32fdf42",
   "metadata": {},
   "source": [
    "## 7) Boxplot — Salario vs Abandono (si aplica)"
   ]
  },
  {
   "cell_type": "code",
   "execution_count": null,
   "id": "c51ad2b1",
   "metadata": {},
   "outputs": [],
   "source": [
    "\n",
    "# Editar el nombre de la columna de salario si es distinto\n",
    "salario_col = \"salario\" if \"salario\" in df.columns else None\n",
    "\n",
    "if target_col and salario_col and target_col in df.columns and salario_col in df.columns:\n",
    "    # Preparar datos\n",
    "    grupos = []\n",
    "    etiquetas = []\n",
    "    for val in sorted(df[target_col].dropna().unique()):\n",
    "        grupos.append(df.loc[df[target_col] == val, salario_col].dropna().values)\n",
    "        etiquetas.append(str(val))\n",
    "\n",
    "    if len(grupos) >= 2:\n",
    "        fig = plt.figure(figsize=(6,4))\n",
    "        plt.boxplot(grupos, labels=etiquetas, showmeans=True)\n",
    "        plt.title(f\"{salario_col} vs {target_col}\")\n",
    "        plt.xlabel(f\"{target_col} (1=Sí, 0=No)\")\n",
    "        plt.ylabel(salario_col)\n",
    "        plt.show()\n"
   ]
  },
  {
   "cell_type": "markdown",
   "id": "51cdd8d1",
   "metadata": {},
   "source": [
    "## 8) Tasa de abandono por categoría (porcentaje)"
   ]
  },
  {
   "cell_type": "code",
   "execution_count": null,
   "id": "068feffe",
   "metadata": {},
   "outputs": [],
   "source": [
    "\n",
    "def plot_abandono_rate_by(col):\n",
    "    if target_col is None or col not in df.columns:\n",
    "        return\n",
    "    tmp = df[[col, target_col]].dropna()\n",
    "    # Calcular tasa (%)\n",
    "    rates = tmp.groupby(col)[target_col].mean().sort_values()\n",
    "    fig = plt.figure(figsize=(6,4))\n",
    "    plt.bar(rates.index.astype(str), (rates.values * 100.0))\n",
    "    plt.title(f\"Tasa de abandono por {col} (%)\")\n",
    "    plt.xlabel(col)\n",
    "    plt.ylabel(\"Porcentaje de abandono\")\n",
    "    plt.xticks(rotation=45, ha=\"right\")\n",
    "    plt.tight_layout()\n",
    "    plt.show()\n",
    "\n",
    "# Elegir algunas columnas categóricas clave si existen\n",
    "for col in [\"sexo\", \"estado_civil\"]:\n",
    "    if col in df.columns:\n",
    "        plot_abandono_rate_by(col)\n"
   ]
  },
  {
   "cell_type": "markdown",
   "id": "ea86bc84",
   "metadata": {},
   "source": [
    "## 9) Matriz de correlación (numéricas)"
   ]
  },
  {
   "cell_type": "code",
   "execution_count": null,
   "id": "d61eeee6",
   "metadata": {},
   "outputs": [],
   "source": [
    "\n",
    "if len(num_cols) >= 2:\n",
    "    corr = df[num_cols].corr(numeric_only=True)\n",
    "    fig = plt.figure(figsize=(6,5))\n",
    "    plt.imshow(corr, interpolation='nearest')\n",
    "    plt.title(\"Correlación entre variables numéricas\")\n",
    "    plt.colorbar()\n",
    "    plt.xticks(range(len(corr.columns)), corr.columns, rotation=45, ha=\"right\")\n",
    "    plt.yticks(range(len(corr.index)), corr.index)\n",
    "    plt.tight_layout()\n",
    "    plt.show()\n",
    "    display(corr.round(3))\n"
   ]
  },
  {
   "cell_type": "markdown",
   "id": "62af96af",
   "metadata": {},
   "source": [
    "\n",
    "## 10) Hallazgos preliminares (para redactar)\n",
    "Completar estos puntos con observaciones surgidas de los gráficos/estadísticas:\n",
    "\n",
    "- **Distribución de edad/salario/antigüedad:** _ej.: la mayor densidad se ubica entre X–Y; hay outliers en ..._\n",
    "- **Categóricas clave (sexo, estado civil, departamento si aplica):** _ej.: desequilibrio de clases, categorías dominantes_\n",
    "- **Abandono por grupos:** _ej.: la tasa de abandono es mayor en ..._\n",
    "- **Relación salario vs abandono:** _ej.: mediana inferior en el grupo que abandona_\n",
    "- **Correlaciones numéricas relevantes:** _ej.: antigüedad y salario correlacionan en +0.45_\n",
    "- **Datos faltantes/outliers:** _ej.: % de nulos en ...; tratamiento sugerido_\n"
   ]
  },
  {
   "cell_type": "markdown",
   "id": "62745b3e",
   "metadata": {},
   "source": [
    "\n",
    "## 11) Checklist ético (para revisión de Mateo)\n",
    "- [ ] Variables sensibles (sexo, edad, estado civil) se usan **solo** para análisis legítimos.\n",
    "- [ ] Se reportan **tasas** y no solo conteos para evitar sesgos por desbalance.\n",
    "- [ ] Se evita inferir causalidad a partir de correlaciones/descriptivos.\n",
    "- [ ] Se documentan **limitaciones** del dataset (cobertura, calidad, sesgos de muestreo).\n"
   ]
  }
 ],
 "metadata": {},
 "nbformat": 4,
 "nbformat_minor": 5
}